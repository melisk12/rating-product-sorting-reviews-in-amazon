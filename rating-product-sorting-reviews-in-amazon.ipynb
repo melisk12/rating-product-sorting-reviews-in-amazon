{
 "cells": [
  {
   "cell_type": "markdown",
   "id": "5ab99b6e",
   "metadata": {
    "_cell_guid": "b1076dfc-b9ad-4769-8c92-a6c4dae69d19",
    "_uuid": "8f2839f25d086af736a60e9eeb907d3b93b6e0e5",
    "papermill": {
     "duration": 0.008642,
     "end_time": "2023-11-07T14:26:49.542507",
     "exception": false,
     "start_time": "2023-11-07T14:26:49.533865",
     "status": "completed"
    },
    "tags": []
   },
   "source": [
    "# Rating Product & Sorting Reviews in Amazon #\n"
   ]
  },
  {
   "cell_type": "markdown",
   "id": "ba943362",
   "metadata": {
    "papermill": {
     "duration": 0.007528,
     "end_time": "2023-11-07T14:26:49.558384",
     "exception": false,
     "start_time": "2023-11-07T14:26:49.550856",
     "status": "completed"
    },
    "tags": []
   },
   "source": [
    "### Business Problem"
   ]
  },
  {
   "cell_type": "markdown",
   "id": "d3c0946f",
   "metadata": {
    "papermill": {
     "duration": 0.007511,
     "end_time": "2023-11-07T14:26:49.573872",
     "exception": false,
     "start_time": "2023-11-07T14:26:49.566361",
     "status": "completed"
    },
    "tags": []
   },
   "source": [
    "One of the most significant problems in e-commerce is the accurate calculation of post-purchase ratings for products. Solving this problem means providing more customer satisfaction for the e-commerce site, highlighting products for sellers, and ensuring a seamless shopping experience for buyers. Another problem is the accurate sorting of product reviews. Since the prominence of misleading reviews can directly impact product sales, it can result in both financial losses and customer churn. After resolving these two core problems, the e-commerce site and sellers will increase their sales, while customers will be able to complete their purchase journey seamlessly."
   ]
  },
  {
   "cell_type": "markdown",
   "id": "02585e8b",
   "metadata": {
    "papermill": {
     "duration": 0.007475,
     "end_time": "2023-11-07T14:26:49.589278",
     "exception": false,
     "start_time": "2023-11-07T14:26:49.581803",
     "status": "completed"
    },
    "tags": []
   },
   "source": [
    "*This dataset containing Amazon product data includes product categories along with various metadata. In the Electronics category, it includes user ratings and reviews for the product with the most reviews.*"
   ]
  },
  {
   "cell_type": "markdown",
   "id": "e70855f1",
   "metadata": {
    "papermill": {
     "duration": 0.007275,
     "end_time": "2023-11-07T14:26:49.604330",
     "exception": false,
     "start_time": "2023-11-07T14:26:49.597055",
     "status": "completed"
    },
    "tags": []
   },
   "source": [
    "## Variables ##\n",
    "\n",
    "- reviewerID: User ID\n",
    "- asin: Product ID\n",
    "- reviewerName: User name\n",
    "- helpful: Helpful Review Rating\n",
    "- reviewText: \n",
    "- overall: Product Rating\n",
    "- summary: Review Summary\n",
    "- unixReviewTime: Review Date\n",
    "- reviewTime: Review Date Raw\n",
    "- day_diff: Number of Days Since Review\n",
    "- helpful_yes: Number of Found Helpful Votes for the Review\n",
    "- total_vote: The total number of votes given to the review, which includes both upvotes and downvotes."
   ]
  },
  {
   "cell_type": "markdown",
   "id": "4fc09b9d",
   "metadata": {
    "papermill": {
     "duration": 0.00722,
     "end_time": "2023-11-07T14:26:49.620279",
     "exception": false,
     "start_time": "2023-11-07T14:26:49.613059",
     "status": "completed"
    },
    "tags": []
   },
   "source": [
    "First, we import the necessary libraries."
   ]
  },
  {
   "cell_type": "code",
   "execution_count": 1,
   "id": "8ad51721",
   "metadata": {
    "execution": {
     "iopub.execute_input": "2023-11-07T14:26:49.637988Z",
     "iopub.status.busy": "2023-11-07T14:26:49.637203Z",
     "iopub.status.idle": "2023-11-07T14:26:51.379660Z",
     "shell.execute_reply": "2023-11-07T14:26:51.378310Z"
    },
    "papermill": {
     "duration": 1.754626,
     "end_time": "2023-11-07T14:26:51.382491",
     "exception": false,
     "start_time": "2023-11-07T14:26:49.627865",
     "status": "completed"
    },
    "tags": []
   },
   "outputs": [],
   "source": [
    "import pandas as pd\n",
    "import math\n",
    "import scipy.stats as st\n",
    "from sklearn.preprocessing import MinMaxScaler\n",
    "\n",
    "pd.set_option('display.max_columns', None)\n",
    "pd.set_option('display.max_rows', None)\n",
    "pd.set_option('display.width', 500)\n",
    "pd.set_option('display.expand_frame_repr', False)\n",
    "pd.set_option('display.float_format', lambda x: '%.5f' % x)"
   ]
  },
  {
   "cell_type": "markdown",
   "id": "baa90e01",
   "metadata": {
    "papermill": {
     "duration": 0.00756,
     "end_time": "2023-11-07T14:26:51.398236",
     "exception": false,
     "start_time": "2023-11-07T14:26:51.390676",
     "status": "completed"
    },
    "tags": []
   },
   "source": [
    "In the shared dataset, users have given ratings and made reviews for a product. Our goal is to evaluate the given ratings by weighting them according to the date. Then we will compare the weighted score obtained with the initial average score."
   ]
  },
  {
   "cell_type": "markdown",
   "id": "be06ffd2",
   "metadata": {
    "papermill": {
     "duration": 0.007762,
     "end_time": "2023-11-07T14:26:51.413814",
     "exception": false,
     "start_time": "2023-11-07T14:26:51.406052",
     "status": "completed"
    },
    "tags": []
   },
   "source": [
    "Let's read and examine the dataset."
   ]
  },
  {
   "cell_type": "code",
   "execution_count": 2,
   "id": "836a976b",
   "metadata": {
    "execution": {
     "iopub.execute_input": "2023-11-07T14:26:51.431569Z",
     "iopub.status.busy": "2023-11-07T14:26:51.430904Z",
     "iopub.status.idle": "2023-11-07T14:26:51.519782Z",
     "shell.execute_reply": "2023-11-07T14:26:51.518580Z"
    },
    "papermill": {
     "duration": 0.100942,
     "end_time": "2023-11-07T14:26:51.522484",
     "exception": false,
     "start_time": "2023-11-07T14:26:51.421542",
     "status": "completed"
    },
    "tags": []
   },
   "outputs": [],
   "source": [
    "df = pd.read_csv(\"/kaggle/input/amazon-review/amazon_review.csv\")"
   ]
  },
  {
   "cell_type": "code",
   "execution_count": 3,
   "id": "ef63f28d",
   "metadata": {
    "execution": {
     "iopub.execute_input": "2023-11-07T14:26:51.541197Z",
     "iopub.status.busy": "2023-11-07T14:26:51.540690Z",
     "iopub.status.idle": "2023-11-07T14:26:51.569240Z",
     "shell.execute_reply": "2023-11-07T14:26:51.567969Z"
    },
    "papermill": {
     "duration": 0.041015,
     "end_time": "2023-11-07T14:26:51.572070",
     "exception": false,
     "start_time": "2023-11-07T14:26:51.531055",
     "status": "completed"
    },
    "tags": []
   },
   "outputs": [
    {
     "data": {
      "text/html": [
       "<div>\n",
       "<style scoped>\n",
       "    .dataframe tbody tr th:only-of-type {\n",
       "        vertical-align: middle;\n",
       "    }\n",
       "\n",
       "    .dataframe tbody tr th {\n",
       "        vertical-align: top;\n",
       "    }\n",
       "\n",
       "    .dataframe thead th {\n",
       "        text-align: right;\n",
       "    }\n",
       "</style>\n",
       "<table border=\"1\" class=\"dataframe\">\n",
       "  <thead>\n",
       "    <tr style=\"text-align: right;\">\n",
       "      <th></th>\n",
       "      <th>reviewerID</th>\n",
       "      <th>asin</th>\n",
       "      <th>reviewerName</th>\n",
       "      <th>helpful</th>\n",
       "      <th>reviewText</th>\n",
       "      <th>overall</th>\n",
       "      <th>summary</th>\n",
       "      <th>unixReviewTime</th>\n",
       "      <th>reviewTime</th>\n",
       "      <th>day_diff</th>\n",
       "      <th>helpful_yes</th>\n",
       "      <th>total_vote</th>\n",
       "    </tr>\n",
       "  </thead>\n",
       "  <tbody>\n",
       "    <tr>\n",
       "      <th>0</th>\n",
       "      <td>A3SBTW3WS4IQSN</td>\n",
       "      <td>B007WTAJTO</td>\n",
       "      <td>NaN</td>\n",
       "      <td>[0, 0]</td>\n",
       "      <td>No issues.</td>\n",
       "      <td>4.00000</td>\n",
       "      <td>Four Stars</td>\n",
       "      <td>1406073600</td>\n",
       "      <td>2014-07-23</td>\n",
       "      <td>138</td>\n",
       "      <td>0</td>\n",
       "      <td>0</td>\n",
       "    </tr>\n",
       "    <tr>\n",
       "      <th>1</th>\n",
       "      <td>A18K1ODH1I2MVB</td>\n",
       "      <td>B007WTAJTO</td>\n",
       "      <td>0mie</td>\n",
       "      <td>[0, 0]</td>\n",
       "      <td>Purchased this for my device, it worked as adv...</td>\n",
       "      <td>5.00000</td>\n",
       "      <td>MOAR SPACE!!!</td>\n",
       "      <td>1382659200</td>\n",
       "      <td>2013-10-25</td>\n",
       "      <td>409</td>\n",
       "      <td>0</td>\n",
       "      <td>0</td>\n",
       "    </tr>\n",
       "    <tr>\n",
       "      <th>2</th>\n",
       "      <td>A2FII3I2MBMUIA</td>\n",
       "      <td>B007WTAJTO</td>\n",
       "      <td>1K3</td>\n",
       "      <td>[0, 0]</td>\n",
       "      <td>it works as expected. I should have sprung for...</td>\n",
       "      <td>4.00000</td>\n",
       "      <td>nothing to really say....</td>\n",
       "      <td>1356220800</td>\n",
       "      <td>2012-12-23</td>\n",
       "      <td>715</td>\n",
       "      <td>0</td>\n",
       "      <td>0</td>\n",
       "    </tr>\n",
       "    <tr>\n",
       "      <th>3</th>\n",
       "      <td>A3H99DFEG68SR</td>\n",
       "      <td>B007WTAJTO</td>\n",
       "      <td>1m2</td>\n",
       "      <td>[0, 0]</td>\n",
       "      <td>This think has worked out great.Had a diff. br...</td>\n",
       "      <td>5.00000</td>\n",
       "      <td>Great buy at this price!!!  *** UPDATE</td>\n",
       "      <td>1384992000</td>\n",
       "      <td>2013-11-21</td>\n",
       "      <td>382</td>\n",
       "      <td>0</td>\n",
       "      <td>0</td>\n",
       "    </tr>\n",
       "    <tr>\n",
       "      <th>4</th>\n",
       "      <td>A375ZM4U047O79</td>\n",
       "      <td>B007WTAJTO</td>\n",
       "      <td>2&amp;amp;1/2Men</td>\n",
       "      <td>[0, 0]</td>\n",
       "      <td>Bought it with Retail Packaging, arrived legit...</td>\n",
       "      <td>5.00000</td>\n",
       "      <td>best deal around</td>\n",
       "      <td>1373673600</td>\n",
       "      <td>2013-07-13</td>\n",
       "      <td>513</td>\n",
       "      <td>0</td>\n",
       "      <td>0</td>\n",
       "    </tr>\n",
       "  </tbody>\n",
       "</table>\n",
       "</div>"
      ],
      "text/plain": [
       "       reviewerID        asin  reviewerName helpful                                         reviewText  overall                                 summary  unixReviewTime  reviewTime  day_diff  helpful_yes  total_vote\n",
       "0  A3SBTW3WS4IQSN  B007WTAJTO           NaN  [0, 0]                                         No issues.  4.00000                              Four Stars      1406073600  2014-07-23       138            0           0\n",
       "1  A18K1ODH1I2MVB  B007WTAJTO          0mie  [0, 0]  Purchased this for my device, it worked as adv...  5.00000                           MOAR SPACE!!!      1382659200  2013-10-25       409            0           0\n",
       "2  A2FII3I2MBMUIA  B007WTAJTO           1K3  [0, 0]  it works as expected. I should have sprung for...  4.00000               nothing to really say....      1356220800  2012-12-23       715            0           0\n",
       "3   A3H99DFEG68SR  B007WTAJTO           1m2  [0, 0]  This think has worked out great.Had a diff. br...  5.00000  Great buy at this price!!!  *** UPDATE      1384992000  2013-11-21       382            0           0\n",
       "4  A375ZM4U047O79  B007WTAJTO  2&amp;1/2Men  [0, 0]  Bought it with Retail Packaging, arrived legit...  5.00000                        best deal around      1373673600  2013-07-13       513            0           0"
      ]
     },
     "execution_count": 3,
     "metadata": {},
     "output_type": "execute_result"
    }
   ],
   "source": [
    "df.head()"
   ]
  },
  {
   "cell_type": "code",
   "execution_count": 4,
   "id": "bc13d1a6",
   "metadata": {
    "execution": {
     "iopub.execute_input": "2023-11-07T14:26:51.591450Z",
     "iopub.status.busy": "2023-11-07T14:26:51.590545Z",
     "iopub.status.idle": "2023-11-07T14:26:51.597656Z",
     "shell.execute_reply": "2023-11-07T14:26:51.596762Z"
    },
    "papermill": {
     "duration": 0.019326,
     "end_time": "2023-11-07T14:26:51.599891",
     "exception": false,
     "start_time": "2023-11-07T14:26:51.580565",
     "status": "completed"
    },
    "tags": []
   },
   "outputs": [
    {
     "data": {
      "text/plain": [
       "(4915, 12)"
      ]
     },
     "execution_count": 4,
     "metadata": {},
     "output_type": "execute_result"
    }
   ],
   "source": [
    "df.shape"
   ]
  },
  {
   "cell_type": "markdown",
   "id": "1ef35f25",
   "metadata": {
    "papermill": {
     "duration": 0.008072,
     "end_time": "2023-11-07T14:26:51.616455",
     "exception": false,
     "start_time": "2023-11-07T14:26:51.608383",
     "status": "completed"
    },
    "tags": []
   },
   "source": [
    "Let's calculate the average rating of the product."
   ]
  },
  {
   "cell_type": "code",
   "execution_count": 5,
   "id": "d6794961",
   "metadata": {
    "execution": {
     "iopub.execute_input": "2023-11-07T14:26:51.635451Z",
     "iopub.status.busy": "2023-11-07T14:26:51.634407Z",
     "iopub.status.idle": "2023-11-07T14:26:51.643176Z",
     "shell.execute_reply": "2023-11-07T14:26:51.642358Z"
    },
    "papermill": {
     "duration": 0.020488,
     "end_time": "2023-11-07T14:26:51.645134",
     "exception": false,
     "start_time": "2023-11-07T14:26:51.624646",
     "status": "completed"
    },
    "tags": []
   },
   "outputs": [
    {
     "data": {
      "text/plain": [
       "4.587589013224822"
      ]
     },
     "execution_count": 5,
     "metadata": {},
     "output_type": "execute_result"
    }
   ],
   "source": [
    "df[\"overall\"].mean()"
   ]
  },
  {
   "cell_type": "markdown",
   "id": "6ecff836",
   "metadata": {
    "papermill": {
     "duration": 0.007965,
     "end_time": "2023-11-07T14:26:51.661376",
     "exception": false,
     "start_time": "2023-11-07T14:26:51.653411",
     "status": "completed"
    },
    "tags": []
   },
   "source": [
    "We are calculating the weighted average rating based on the date. For this, we are writing a function named 'time_based_weighted_average'. In this function, we are dividing the 'day_diff' variable, which represents the number of days since the review, into four quarters from the most recent to the oldest. Then, we assign weight values for each quarter."
   ]
  },
  {
   "cell_type": "code",
   "execution_count": 6,
   "id": "a9e89097",
   "metadata": {
    "execution": {
     "iopub.execute_input": "2023-11-07T14:26:51.680510Z",
     "iopub.status.busy": "2023-11-07T14:26:51.679244Z",
     "iopub.status.idle": "2023-11-07T14:26:51.702591Z",
     "shell.execute_reply": "2023-11-07T14:26:51.701392Z"
    },
    "papermill": {
     "duration": 0.035632,
     "end_time": "2023-11-07T14:26:51.705168",
     "exception": false,
     "start_time": "2023-11-07T14:26:51.669536",
     "status": "completed"
    },
    "tags": []
   },
   "outputs": [
    {
     "data": {
      "text/plain": [
       "4.4462540716612375"
      ]
     },
     "execution_count": 6,
     "metadata": {},
     "output_type": "execute_result"
    }
   ],
   "source": [
    "df.loc[df[\"day_diff\"] <= df[\"day_diff\"].quantile(0.25), \"overall\"].mean()  # 4.69\n",
    "\n",
    "df.loc[(df[\"day_diff\"] > df[\"day_diff\"].quantile(0.25)) & (df[\"day_diff\"] <= df[\"day_diff\"].\n",
    "                                                           quantile(0.50)), \"overall\"].mean()  # 4.63\n",
    "\n",
    "df.loc[(df[\"day_diff\"] > df[\"day_diff\"].quantile(0.50)) & (df[\"day_diff\"] <= df[\"day_diff\"].\n",
    "                                                           quantile(0.75)), \"overall\"].mean()  # 4.57\n",
    "\n",
    "df.loc[(df[\"day_diff\"] > df[\"day_diff\"].quantile(0.75)), \"overall\"].mean()  # 4.44"
   ]
  },
  {
   "cell_type": "markdown",
   "id": "6d6fdaae",
   "metadata": {
    "papermill": {
     "duration": 0.008182,
     "end_time": "2023-11-07T14:26:51.722020",
     "exception": false,
     "start_time": "2023-11-07T14:26:51.713838",
     "status": "completed"
    },
    "tags": []
   },
   "source": [
    "Initially, when we examined the average ratings for each time period, we observed that the ratings given to the product increased as we got closer to the present day. Now, we can write our function for weight calculation"
   ]
  },
  {
   "cell_type": "code",
   "execution_count": 7,
   "id": "a133e3a0",
   "metadata": {
    "execution": {
     "iopub.execute_input": "2023-11-07T14:26:51.741255Z",
     "iopub.status.busy": "2023-11-07T14:26:51.740508Z",
     "iopub.status.idle": "2023-11-07T14:26:51.748448Z",
     "shell.execute_reply": "2023-11-07T14:26:51.747535Z"
    },
    "papermill": {
     "duration": 0.020385,
     "end_time": "2023-11-07T14:26:51.750822",
     "exception": false,
     "start_time": "2023-11-07T14:26:51.730437",
     "status": "completed"
    },
    "tags": []
   },
   "outputs": [],
   "source": [
    "def time_based_weighted_average(dataframe, w1=28, w2=26, w3=24, w4=22):\n",
    "    return dataframe.loc[dataframe[\"day_diff\"] <= dataframe[\"day_diff\"].quantile(0.25), \"overall\"]. \\\n",
    "        mean() * w1 / 100 + \\\n",
    "        dataframe.loc[(dataframe[\"day_diff\"] > dataframe[\"day_diff\"].\n",
    "                       quantile(0.25)) & (dataframe[\"day_diff\"] <= dataframe[\"day_diff\"].quantile(\n",
    "            0.50)), \"overall\"].mean() * w2 / 100 + \\\n",
    "        dataframe.loc[(dataframe[\"day_diff\"] > dataframe[\"day_diff\"].\n",
    "                       quantile(0.50)) & (dataframe[\"day_diff\"] <= dataframe[\"day_diff\"].quantile(\n",
    "            0.75)), \"overall\"].mean() * w3 / 100 + \\\n",
    "        dataframe.loc[(dataframe[\"day_diff\"] > dataframe[\"day_diff\"].\n",
    "                       quantile(0.75)), \"overall\"].mean() * w4 / 100"
   ]
  },
  {
   "cell_type": "markdown",
   "id": "2726a22f",
   "metadata": {
    "papermill": {
     "duration": 0.00811,
     "end_time": "2023-11-07T14:26:51.767480",
     "exception": false,
     "start_time": "2023-11-07T14:26:51.759370",
     "status": "completed"
    },
    "tags": []
   },
   "source": [
    "When we run our function, we obtain the time-weighted average rating based on the date."
   ]
  },
  {
   "cell_type": "code",
   "execution_count": 8,
   "id": "1efe0439",
   "metadata": {
    "execution": {
     "iopub.execute_input": "2023-11-07T14:26:51.786674Z",
     "iopub.status.busy": "2023-11-07T14:26:51.785940Z",
     "iopub.status.idle": "2023-11-07T14:26:51.801345Z",
     "shell.execute_reply": "2023-11-07T14:26:51.800131Z"
    },
    "papermill": {
     "duration": 0.027848,
     "end_time": "2023-11-07T14:26:51.803786",
     "exception": false,
     "start_time": "2023-11-07T14:26:51.775938",
     "status": "completed"
    },
    "tags": []
   },
   "outputs": [
    {
     "data": {
      "text/plain": [
       "4.595593165128118"
      ]
     },
     "execution_count": 8,
     "metadata": {},
     "output_type": "execute_result"
    }
   ],
   "source": [
    "time_based_weighted_average(df)"
   ]
  },
  {
   "cell_type": "code",
   "execution_count": 9,
   "id": "2b4da899",
   "metadata": {
    "execution": {
     "iopub.execute_input": "2023-11-07T14:26:51.823679Z",
     "iopub.status.busy": "2023-11-07T14:26:51.822938Z",
     "iopub.status.idle": "2023-11-07T14:26:51.830395Z",
     "shell.execute_reply": "2023-11-07T14:26:51.829409Z"
    },
    "papermill": {
     "duration": 0.020011,
     "end_time": "2023-11-07T14:26:51.832479",
     "exception": false,
     "start_time": "2023-11-07T14:26:51.812468",
     "status": "completed"
    },
    "tags": []
   },
   "outputs": [
    {
     "data": {
      "text/plain": [
       "4.587589013224822"
      ]
     },
     "execution_count": 9,
     "metadata": {},
     "output_type": "execute_result"
    }
   ],
   "source": [
    "df[\"overall\"].mean()"
   ]
  },
  {
   "cell_type": "markdown",
   "id": "6695a662",
   "metadata": {
    "papermill": {
     "duration": 0.008258,
     "end_time": "2023-11-07T14:26:51.849463",
     "exception": false,
     "start_time": "2023-11-07T14:26:51.841205",
     "status": "completed"
    },
    "tags": []
   },
   "source": [
    "We obtained a value of 4.58 by calculating only the overall variable, which is the average product rating. When we calculated the time-weighted rating average, we obtained a value of 4.59. It may not seem like a significant difference. However, for sellers to promote their products and for the shopping experience of customers, a difference of 0.01 is very valuable."
   ]
  },
  {
   "cell_type": "markdown",
   "id": "65ed038d",
   "metadata": {
    "papermill": {
     "duration": 0.008363,
     "end_time": "2023-11-07T14:26:51.866536",
     "exception": false,
     "start_time": "2023-11-07T14:26:51.858173",
     "status": "completed"
    },
    "tags": []
   },
   "source": [
    "#### We will select the top 20 reviews to be displayed on the product's detail page. ####"
   ]
  },
  {
   "cell_type": "markdown",
   "id": "f84a512e",
   "metadata": {
    "papermill": {
     "duration": 0.008238,
     "end_time": "2023-11-07T14:26:51.883515",
     "exception": false,
     "start_time": "2023-11-07T14:26:51.875277",
     "status": "completed"
    },
    "tags": []
   },
   "source": [
    "First, let's generate the 'helpful_no' variable.\n",
    "Note:\n",
    "Total_vote is the total number of \"up-down\" given to a review.\n",
    "Up\" means \"helpful.\n",
    "There is no \"helpful_no\" variable in the dataset; it needs to be generated from the existing variables."
   ]
  },
  {
   "cell_type": "code",
   "execution_count": 10,
   "id": "8dcbd076",
   "metadata": {
    "execution": {
     "iopub.execute_input": "2023-11-07T14:26:51.903354Z",
     "iopub.status.busy": "2023-11-07T14:26:51.902604Z",
     "iopub.status.idle": "2023-11-07T14:26:51.909151Z",
     "shell.execute_reply": "2023-11-07T14:26:51.908156Z"
    },
    "papermill": {
     "duration": 0.019452,
     "end_time": "2023-11-07T14:26:51.911622",
     "exception": false,
     "start_time": "2023-11-07T14:26:51.892170",
     "status": "completed"
    },
    "tags": []
   },
   "outputs": [],
   "source": [
    "df[\"helpful_no\"] = df[\"total_vote\"] - df[\"helpful_yes\"]"
   ]
  },
  {
   "cell_type": "code",
   "execution_count": 11,
   "id": "df0a4d06",
   "metadata": {
    "execution": {
     "iopub.execute_input": "2023-11-07T14:26:51.931891Z",
     "iopub.status.busy": "2023-11-07T14:26:51.931127Z",
     "iopub.status.idle": "2023-11-07T14:26:51.948547Z",
     "shell.execute_reply": "2023-11-07T14:26:51.947318Z"
    },
    "papermill": {
     "duration": 0.030812,
     "end_time": "2023-11-07T14:26:51.951427",
     "exception": false,
     "start_time": "2023-11-07T14:26:51.920615",
     "status": "completed"
    },
    "tags": []
   },
   "outputs": [],
   "source": [
    "df = df[[\"reviewerName\", \"overall\", \"summary\", \"helpful_yes\", \"helpful_no\", \"total_vote\", \"reviewTime\"]]"
   ]
  },
  {
   "cell_type": "code",
   "execution_count": 12,
   "id": "7c7a4065",
   "metadata": {
    "execution": {
     "iopub.execute_input": "2023-11-07T14:26:52.060628Z",
     "iopub.status.busy": "2023-11-07T14:26:52.059868Z",
     "iopub.status.idle": "2023-11-07T14:26:52.073606Z",
     "shell.execute_reply": "2023-11-07T14:26:52.072394Z"
    },
    "papermill": {
     "duration": 0.027719,
     "end_time": "2023-11-07T14:26:52.076092",
     "exception": false,
     "start_time": "2023-11-07T14:26:52.048373",
     "status": "completed"
    },
    "tags": []
   },
   "outputs": [
    {
     "data": {
      "text/html": [
       "<div>\n",
       "<style scoped>\n",
       "    .dataframe tbody tr th:only-of-type {\n",
       "        vertical-align: middle;\n",
       "    }\n",
       "\n",
       "    .dataframe tbody tr th {\n",
       "        vertical-align: top;\n",
       "    }\n",
       "\n",
       "    .dataframe thead th {\n",
       "        text-align: right;\n",
       "    }\n",
       "</style>\n",
       "<table border=\"1\" class=\"dataframe\">\n",
       "  <thead>\n",
       "    <tr style=\"text-align: right;\">\n",
       "      <th></th>\n",
       "      <th>reviewerName</th>\n",
       "      <th>overall</th>\n",
       "      <th>summary</th>\n",
       "      <th>helpful_yes</th>\n",
       "      <th>helpful_no</th>\n",
       "      <th>total_vote</th>\n",
       "      <th>reviewTime</th>\n",
       "    </tr>\n",
       "  </thead>\n",
       "  <tbody>\n",
       "    <tr>\n",
       "      <th>0</th>\n",
       "      <td>NaN</td>\n",
       "      <td>4.00000</td>\n",
       "      <td>Four Stars</td>\n",
       "      <td>0</td>\n",
       "      <td>0</td>\n",
       "      <td>0</td>\n",
       "      <td>2014-07-23</td>\n",
       "    </tr>\n",
       "    <tr>\n",
       "      <th>1</th>\n",
       "      <td>0mie</td>\n",
       "      <td>5.00000</td>\n",
       "      <td>MOAR SPACE!!!</td>\n",
       "      <td>0</td>\n",
       "      <td>0</td>\n",
       "      <td>0</td>\n",
       "      <td>2013-10-25</td>\n",
       "    </tr>\n",
       "    <tr>\n",
       "      <th>2</th>\n",
       "      <td>1K3</td>\n",
       "      <td>4.00000</td>\n",
       "      <td>nothing to really say....</td>\n",
       "      <td>0</td>\n",
       "      <td>0</td>\n",
       "      <td>0</td>\n",
       "      <td>2012-12-23</td>\n",
       "    </tr>\n",
       "    <tr>\n",
       "      <th>3</th>\n",
       "      <td>1m2</td>\n",
       "      <td>5.00000</td>\n",
       "      <td>Great buy at this price!!!  *** UPDATE</td>\n",
       "      <td>0</td>\n",
       "      <td>0</td>\n",
       "      <td>0</td>\n",
       "      <td>2013-11-21</td>\n",
       "    </tr>\n",
       "    <tr>\n",
       "      <th>4</th>\n",
       "      <td>2&amp;amp;1/2Men</td>\n",
       "      <td>5.00000</td>\n",
       "      <td>best deal around</td>\n",
       "      <td>0</td>\n",
       "      <td>0</td>\n",
       "      <td>0</td>\n",
       "      <td>2013-07-13</td>\n",
       "    </tr>\n",
       "  </tbody>\n",
       "</table>\n",
       "</div>"
      ],
      "text/plain": [
       "   reviewerName  overall                                 summary  helpful_yes  helpful_no  total_vote  reviewTime\n",
       "0           NaN  4.00000                              Four Stars            0           0           0  2014-07-23\n",
       "1          0mie  5.00000                           MOAR SPACE!!!            0           0           0  2013-10-25\n",
       "2           1K3  4.00000               nothing to really say....            0           0           0  2012-12-23\n",
       "3           1m2  5.00000  Great buy at this price!!!  *** UPDATE            0           0           0  2013-11-21\n",
       "4  2&amp;1/2Men  5.00000                        best deal around            0           0           0  2013-07-13"
      ]
     },
     "execution_count": 12,
     "metadata": {},
     "output_type": "execute_result"
    }
   ],
   "source": [
    "df.head()"
   ]
  },
  {
   "cell_type": "markdown",
   "id": "7feb0e86",
   "metadata": {
    "papermill": {
     "duration": 0.009612,
     "end_time": "2023-11-07T14:26:52.095038",
     "exception": false,
     "start_time": "2023-11-07T14:26:52.085426",
     "status": "completed"
    },
    "tags": []
   },
   "source": [
    "Let's calculate the 'score_pos_neg_diff,' 'score_average_rating,' and 'wilson_lower_bound' scores and add them to the data."
   ]
  },
  {
   "cell_type": "code",
   "execution_count": 13,
   "id": "5ef1ea04",
   "metadata": {
    "execution": {
     "iopub.execute_input": "2023-11-07T14:26:52.115851Z",
     "iopub.status.busy": "2023-11-07T14:26:52.115380Z",
     "iopub.status.idle": "2023-11-07T14:26:52.119866Z",
     "shell.execute_reply": "2023-11-07T14:26:52.118942Z"
    },
    "papermill": {
     "duration": 0.017527,
     "end_time": "2023-11-07T14:26:52.121966",
     "exception": false,
     "start_time": "2023-11-07T14:26:52.104439",
     "status": "completed"
    },
    "tags": []
   },
   "outputs": [],
   "source": [
    "# score_pos_neg_diff:\n",
    "def score_up_down_diff(up, down):\n",
    "    return up - down"
   ]
  },
  {
   "cell_type": "code",
   "execution_count": 14,
   "id": "f79f1d21",
   "metadata": {
    "execution": {
     "iopub.execute_input": "2023-11-07T14:26:52.143555Z",
     "iopub.status.busy": "2023-11-07T14:26:52.142418Z",
     "iopub.status.idle": "2023-11-07T14:26:52.202034Z",
     "shell.execute_reply": "2023-11-07T14:26:52.200699Z"
    },
    "papermill": {
     "duration": 0.073771,
     "end_time": "2023-11-07T14:26:52.205070",
     "exception": false,
     "start_time": "2023-11-07T14:26:52.131299",
     "status": "completed"
    },
    "tags": []
   },
   "outputs": [],
   "source": [
    "df[\"score_pos_neg_diff\"] = df.apply(lambda x: score_up_down_diff(x[\"helpful_yes\"], x[\"helpful_no\"]), axis=1)"
   ]
  },
  {
   "cell_type": "code",
   "execution_count": 15,
   "id": "a2a79471",
   "metadata": {
    "execution": {
     "iopub.execute_input": "2023-11-07T14:26:52.226135Z",
     "iopub.status.busy": "2023-11-07T14:26:52.225414Z",
     "iopub.status.idle": "2023-11-07T14:26:52.242546Z",
     "shell.execute_reply": "2023-11-07T14:26:52.241157Z"
    },
    "papermill": {
     "duration": 0.031054,
     "end_time": "2023-11-07T14:26:52.245563",
     "exception": false,
     "start_time": "2023-11-07T14:26:52.214509",
     "status": "completed"
    },
    "tags": []
   },
   "outputs": [
    {
     "data": {
      "text/html": [
       "<div>\n",
       "<style scoped>\n",
       "    .dataframe tbody tr th:only-of-type {\n",
       "        vertical-align: middle;\n",
       "    }\n",
       "\n",
       "    .dataframe tbody tr th {\n",
       "        vertical-align: top;\n",
       "    }\n",
       "\n",
       "    .dataframe thead th {\n",
       "        text-align: right;\n",
       "    }\n",
       "</style>\n",
       "<table border=\"1\" class=\"dataframe\">\n",
       "  <thead>\n",
       "    <tr style=\"text-align: right;\">\n",
       "      <th></th>\n",
       "      <th>reviewerName</th>\n",
       "      <th>overall</th>\n",
       "      <th>summary</th>\n",
       "      <th>helpful_yes</th>\n",
       "      <th>helpful_no</th>\n",
       "      <th>total_vote</th>\n",
       "      <th>reviewTime</th>\n",
       "      <th>score_pos_neg_diff</th>\n",
       "    </tr>\n",
       "  </thead>\n",
       "  <tbody>\n",
       "    <tr>\n",
       "      <th>2031</th>\n",
       "      <td>Hyoun Kim \"Faluzure\"</td>\n",
       "      <td>5.00000</td>\n",
       "      <td>UPDATED - Great w/ Galaxy S4 &amp; Galaxy Tab 4 10...</td>\n",
       "      <td>1952</td>\n",
       "      <td>68</td>\n",
       "      <td>2020</td>\n",
       "      <td>2013-01-05</td>\n",
       "      <td>1884</td>\n",
       "    </tr>\n",
       "    <tr>\n",
       "      <th>4212</th>\n",
       "      <td>SkincareCEO</td>\n",
       "      <td>1.00000</td>\n",
       "      <td>1 Star reviews - Micro SDXC card unmounts itse...</td>\n",
       "      <td>1568</td>\n",
       "      <td>126</td>\n",
       "      <td>1694</td>\n",
       "      <td>2013-05-08</td>\n",
       "      <td>1442</td>\n",
       "    </tr>\n",
       "    <tr>\n",
       "      <th>3449</th>\n",
       "      <td>NLee the Engineer</td>\n",
       "      <td>5.00000</td>\n",
       "      <td>Top of the class among all (budget-priced) mic...</td>\n",
       "      <td>1428</td>\n",
       "      <td>77</td>\n",
       "      <td>1505</td>\n",
       "      <td>2012-09-26</td>\n",
       "      <td>1351</td>\n",
       "    </tr>\n",
       "    <tr>\n",
       "      <th>317</th>\n",
       "      <td>Amazon Customer \"Kelly\"</td>\n",
       "      <td>1.00000</td>\n",
       "      <td>Warning, read this!</td>\n",
       "      <td>422</td>\n",
       "      <td>73</td>\n",
       "      <td>495</td>\n",
       "      <td>2012-02-09</td>\n",
       "      <td>349</td>\n",
       "    </tr>\n",
       "    <tr>\n",
       "      <th>3981</th>\n",
       "      <td>R. Sutton, Jr. \"RWSynergy\"</td>\n",
       "      <td>5.00000</td>\n",
       "      <td>Resolving confusion between \"Mobile Ultra\" and...</td>\n",
       "      <td>112</td>\n",
       "      <td>27</td>\n",
       "      <td>139</td>\n",
       "      <td>2012-10-22</td>\n",
       "      <td>85</td>\n",
       "    </tr>\n",
       "  </tbody>\n",
       "</table>\n",
       "</div>"
      ],
      "text/plain": [
       "                    reviewerName  overall                                            summary  helpful_yes  helpful_no  total_vote  reviewTime  score_pos_neg_diff\n",
       "2031        Hyoun Kim \"Faluzure\"  5.00000  UPDATED - Great w/ Galaxy S4 & Galaxy Tab 4 10...         1952          68        2020  2013-01-05                1884\n",
       "4212                 SkincareCEO  1.00000  1 Star reviews - Micro SDXC card unmounts itse...         1568         126        1694  2013-05-08                1442\n",
       "3449           NLee the Engineer  5.00000  Top of the class among all (budget-priced) mic...         1428          77        1505  2012-09-26                1351\n",
       "317      Amazon Customer \"Kelly\"  1.00000                                Warning, read this!          422          73         495  2012-02-09                 349\n",
       "3981  R. Sutton, Jr. \"RWSynergy\"  5.00000  Resolving confusion between \"Mobile Ultra\" and...          112          27         139  2012-10-22                  85"
      ]
     },
     "execution_count": 15,
     "metadata": {},
     "output_type": "execute_result"
    }
   ],
   "source": [
    "df.sort_values(\"score_pos_neg_diff\", ascending=False).head(5)"
   ]
  },
  {
   "cell_type": "code",
   "execution_count": 16,
   "id": "bf1f0536",
   "metadata": {
    "execution": {
     "iopub.execute_input": "2023-11-07T14:26:52.268006Z",
     "iopub.status.busy": "2023-11-07T14:26:52.266704Z",
     "iopub.status.idle": "2023-11-07T14:26:52.272147Z",
     "shell.execute_reply": "2023-11-07T14:26:52.271266Z"
    },
    "papermill": {
     "duration": 0.019112,
     "end_time": "2023-11-07T14:26:52.274431",
     "exception": false,
     "start_time": "2023-11-07T14:26:52.255319",
     "status": "completed"
    },
    "tags": []
   },
   "outputs": [],
   "source": [
    "# score_average_rating:\n",
    "def score_average_rating(up, down):\n",
    "    if up + down == 0:\n",
    "        return 0\n",
    "    return up / (up + down)"
   ]
  },
  {
   "cell_type": "code",
   "execution_count": 17,
   "id": "8cbed58a",
   "metadata": {
    "execution": {
     "iopub.execute_input": "2023-11-07T14:26:52.296480Z",
     "iopub.status.busy": "2023-11-07T14:26:52.295249Z",
     "iopub.status.idle": "2023-11-07T14:26:52.355234Z",
     "shell.execute_reply": "2023-11-07T14:26:52.353797Z"
    },
    "papermill": {
     "duration": 0.074127,
     "end_time": "2023-11-07T14:26:52.358199",
     "exception": false,
     "start_time": "2023-11-07T14:26:52.284072",
     "status": "completed"
    },
    "tags": []
   },
   "outputs": [],
   "source": [
    "df[\"score_average_rating\"] = df.apply(lambda x: score_average_rating(x[\"helpful_yes\"], x[\"helpful_no\"]), axis=1)"
   ]
  },
  {
   "cell_type": "code",
   "execution_count": 18,
   "id": "2642d1cf",
   "metadata": {
    "execution": {
     "iopub.execute_input": "2023-11-07T14:26:52.379504Z",
     "iopub.status.busy": "2023-11-07T14:26:52.379061Z",
     "iopub.status.idle": "2023-11-07T14:26:52.395946Z",
     "shell.execute_reply": "2023-11-07T14:26:52.394735Z"
    },
    "papermill": {
     "duration": 0.030491,
     "end_time": "2023-11-07T14:26:52.398306",
     "exception": false,
     "start_time": "2023-11-07T14:26:52.367815",
     "status": "completed"
    },
    "tags": []
   },
   "outputs": [
    {
     "data": {
      "text/html": [
       "<div>\n",
       "<style scoped>\n",
       "    .dataframe tbody tr th:only-of-type {\n",
       "        vertical-align: middle;\n",
       "    }\n",
       "\n",
       "    .dataframe tbody tr th {\n",
       "        vertical-align: top;\n",
       "    }\n",
       "\n",
       "    .dataframe thead th {\n",
       "        text-align: right;\n",
       "    }\n",
       "</style>\n",
       "<table border=\"1\" class=\"dataframe\">\n",
       "  <thead>\n",
       "    <tr style=\"text-align: right;\">\n",
       "      <th></th>\n",
       "      <th>reviewerName</th>\n",
       "      <th>overall</th>\n",
       "      <th>summary</th>\n",
       "      <th>helpful_yes</th>\n",
       "      <th>helpful_no</th>\n",
       "      <th>total_vote</th>\n",
       "      <th>reviewTime</th>\n",
       "      <th>score_pos_neg_diff</th>\n",
       "      <th>score_average_rating</th>\n",
       "    </tr>\n",
       "  </thead>\n",
       "  <tbody>\n",
       "    <tr>\n",
       "      <th>4277</th>\n",
       "      <td>S. Q.</td>\n",
       "      <td>5.00000</td>\n",
       "      <td>Perfect!!</td>\n",
       "      <td>1</td>\n",
       "      <td>0</td>\n",
       "      <td>1</td>\n",
       "      <td>2012-12-19</td>\n",
       "      <td>1</td>\n",
       "      <td>1.00000</td>\n",
       "    </tr>\n",
       "    <tr>\n",
       "      <th>2881</th>\n",
       "      <td>Lou Thomas</td>\n",
       "      <td>5.00000</td>\n",
       "      <td>Nexus One Loves This Card!</td>\n",
       "      <td>1</td>\n",
       "      <td>0</td>\n",
       "      <td>1</td>\n",
       "      <td>2012-01-10</td>\n",
       "      <td>1</td>\n",
       "      <td>1.00000</td>\n",
       "    </tr>\n",
       "    <tr>\n",
       "      <th>1073</th>\n",
       "      <td>C. Sanchez</td>\n",
       "      <td>5.00000</td>\n",
       "      <td>Tons of space for phone</td>\n",
       "      <td>1</td>\n",
       "      <td>0</td>\n",
       "      <td>1</td>\n",
       "      <td>2013-08-13</td>\n",
       "      <td>1</td>\n",
       "      <td>1.00000</td>\n",
       "    </tr>\n",
       "    <tr>\n",
       "      <th>445</th>\n",
       "      <td>Apache \"Elizabeth\"</td>\n",
       "      <td>4.00000</td>\n",
       "      <td>Amazon Great Prices</td>\n",
       "      <td>1</td>\n",
       "      <td>0</td>\n",
       "      <td>1</td>\n",
       "      <td>2013-12-18</td>\n",
       "      <td>1</td>\n",
       "      <td>1.00000</td>\n",
       "    </tr>\n",
       "    <tr>\n",
       "      <th>3923</th>\n",
       "      <td>Rock Your Roots</td>\n",
       "      <td>5.00000</td>\n",
       "      <td>What more to say?</td>\n",
       "      <td>1</td>\n",
       "      <td>0</td>\n",
       "      <td>1</td>\n",
       "      <td>2013-12-30</td>\n",
       "      <td>1</td>\n",
       "      <td>1.00000</td>\n",
       "    </tr>\n",
       "  </tbody>\n",
       "</table>\n",
       "</div>"
      ],
      "text/plain": [
       "            reviewerName  overall                     summary  helpful_yes  helpful_no  total_vote  reviewTime  score_pos_neg_diff  score_average_rating\n",
       "4277               S. Q.  5.00000                   Perfect!!            1           0           1  2012-12-19                   1               1.00000\n",
       "2881          Lou Thomas  5.00000  Nexus One Loves This Card!            1           0           1  2012-01-10                   1               1.00000\n",
       "1073          C. Sanchez  5.00000     Tons of space for phone            1           0           1  2013-08-13                   1               1.00000\n",
       "445   Apache \"Elizabeth\"  4.00000         Amazon Great Prices            1           0           1  2013-12-18                   1               1.00000\n",
       "3923     Rock Your Roots  5.00000           What more to say?            1           0           1  2013-12-30                   1               1.00000"
      ]
     },
     "execution_count": 18,
     "metadata": {},
     "output_type": "execute_result"
    }
   ],
   "source": [
    "df.sort_values(\"score_average_rating\", ascending=False).head(5)"
   ]
  },
  {
   "cell_type": "code",
   "execution_count": 19,
   "id": "63508ce5",
   "metadata": {
    "execution": {
     "iopub.execute_input": "2023-11-07T14:26:52.420009Z",
     "iopub.status.busy": "2023-11-07T14:26:52.419548Z",
     "iopub.status.idle": "2023-11-07T14:26:52.427047Z",
     "shell.execute_reply": "2023-11-07T14:26:52.425790Z"
    },
    "papermill": {
     "duration": 0.021629,
     "end_time": "2023-11-07T14:26:52.429540",
     "exception": false,
     "start_time": "2023-11-07T14:26:52.407911",
     "status": "completed"
    },
    "tags": []
   },
   "outputs": [],
   "source": [
    "def wilson_lower_bound(up, down, confidence=0.95):\n",
    "    \"\"\"\n",
    "    Calculate the Wilson Lower Bound Score\n",
    "\n",
    "    - The lower bound of the confidence interval to be calculated for the Bernoulli parameter p is considered as the WLB score.\n",
    "    - The calculated score is used for product ranking.\n",
    "\n",
    "    Parameters\n",
    "    ----------\n",
    "    up: int\n",
    "        up count\n",
    "    down: int\n",
    "        down count\n",
    "    confidence: float\n",
    "        confidence\n",
    "\n",
    "    Returns\n",
    "    -------\n",
    "    wilson score: float\n",
    "\n",
    "    \"\"\"\n",
    "    n = up + down\n",
    "    if n == 0:\n",
    "        return 0\n",
    "    z = st.norm.ppf(1 - (1 - confidence) / 2)\n",
    "    phat = 1.0 * up / n\n",
    "    return (phat + z * z / (2 * n) - z * math.sqrt((phat * (1 - phat) + z * z / (4 * n)) / n)) / (1 + z * z / n)"
   ]
  },
  {
   "cell_type": "code",
   "execution_count": 20,
   "id": "a905a289",
   "metadata": {
    "execution": {
     "iopub.execute_input": "2023-11-07T14:26:52.452154Z",
     "iopub.status.busy": "2023-11-07T14:26:52.451702Z",
     "iopub.status.idle": "2023-11-07T14:26:52.604954Z",
     "shell.execute_reply": "2023-11-07T14:26:52.603764Z"
    },
    "papermill": {
     "duration": 0.167569,
     "end_time": "2023-11-07T14:26:52.607744",
     "exception": false,
     "start_time": "2023-11-07T14:26:52.440175",
     "status": "completed"
    },
    "tags": []
   },
   "outputs": [],
   "source": [
    "df[\"wilson_lower_bound\"] = df.apply(lambda x: wilson_lower_bound(x[\"helpful_yes\"], x[\"helpful_no\"]), axis=1)"
   ]
  },
  {
   "cell_type": "code",
   "execution_count": 21,
   "id": "d4bd9739",
   "metadata": {
    "execution": {
     "iopub.execute_input": "2023-11-07T14:26:52.629380Z",
     "iopub.status.busy": "2023-11-07T14:26:52.628542Z",
     "iopub.status.idle": "2023-11-07T14:26:52.645486Z",
     "shell.execute_reply": "2023-11-07T14:26:52.644560Z"
    },
    "papermill": {
     "duration": 0.03029,
     "end_time": "2023-11-07T14:26:52.647650",
     "exception": false,
     "start_time": "2023-11-07T14:26:52.617360",
     "status": "completed"
    },
    "tags": []
   },
   "outputs": [
    {
     "data": {
      "text/html": [
       "<div>\n",
       "<style scoped>\n",
       "    .dataframe tbody tr th:only-of-type {\n",
       "        vertical-align: middle;\n",
       "    }\n",
       "\n",
       "    .dataframe tbody tr th {\n",
       "        vertical-align: top;\n",
       "    }\n",
       "\n",
       "    .dataframe thead th {\n",
       "        text-align: right;\n",
       "    }\n",
       "</style>\n",
       "<table border=\"1\" class=\"dataframe\">\n",
       "  <thead>\n",
       "    <tr style=\"text-align: right;\">\n",
       "      <th></th>\n",
       "      <th>reviewerName</th>\n",
       "      <th>overall</th>\n",
       "      <th>summary</th>\n",
       "      <th>helpful_yes</th>\n",
       "      <th>helpful_no</th>\n",
       "      <th>total_vote</th>\n",
       "      <th>reviewTime</th>\n",
       "      <th>score_pos_neg_diff</th>\n",
       "      <th>score_average_rating</th>\n",
       "      <th>wilson_lower_bound</th>\n",
       "    </tr>\n",
       "  </thead>\n",
       "  <tbody>\n",
       "    <tr>\n",
       "      <th>2031</th>\n",
       "      <td>Hyoun Kim \"Faluzure\"</td>\n",
       "      <td>5.00000</td>\n",
       "      <td>UPDATED - Great w/ Galaxy S4 &amp; Galaxy Tab 4 10...</td>\n",
       "      <td>1952</td>\n",
       "      <td>68</td>\n",
       "      <td>2020</td>\n",
       "      <td>2013-01-05</td>\n",
       "      <td>1884</td>\n",
       "      <td>0.96634</td>\n",
       "      <td>0.95754</td>\n",
       "    </tr>\n",
       "    <tr>\n",
       "      <th>3449</th>\n",
       "      <td>NLee the Engineer</td>\n",
       "      <td>5.00000</td>\n",
       "      <td>Top of the class among all (budget-priced) mic...</td>\n",
       "      <td>1428</td>\n",
       "      <td>77</td>\n",
       "      <td>1505</td>\n",
       "      <td>2012-09-26</td>\n",
       "      <td>1351</td>\n",
       "      <td>0.94884</td>\n",
       "      <td>0.93652</td>\n",
       "    </tr>\n",
       "    <tr>\n",
       "      <th>4212</th>\n",
       "      <td>SkincareCEO</td>\n",
       "      <td>1.00000</td>\n",
       "      <td>1 Star reviews - Micro SDXC card unmounts itse...</td>\n",
       "      <td>1568</td>\n",
       "      <td>126</td>\n",
       "      <td>1694</td>\n",
       "      <td>2013-05-08</td>\n",
       "      <td>1442</td>\n",
       "      <td>0.92562</td>\n",
       "      <td>0.91214</td>\n",
       "    </tr>\n",
       "    <tr>\n",
       "      <th>317</th>\n",
       "      <td>Amazon Customer \"Kelly\"</td>\n",
       "      <td>1.00000</td>\n",
       "      <td>Warning, read this!</td>\n",
       "      <td>422</td>\n",
       "      <td>73</td>\n",
       "      <td>495</td>\n",
       "      <td>2012-02-09</td>\n",
       "      <td>349</td>\n",
       "      <td>0.85253</td>\n",
       "      <td>0.81858</td>\n",
       "    </tr>\n",
       "    <tr>\n",
       "      <th>4672</th>\n",
       "      <td>Twister</td>\n",
       "      <td>5.00000</td>\n",
       "      <td>Super high capacity!!!  Excellent price (on Am...</td>\n",
       "      <td>45</td>\n",
       "      <td>4</td>\n",
       "      <td>49</td>\n",
       "      <td>2014-07-03</td>\n",
       "      <td>41</td>\n",
       "      <td>0.91837</td>\n",
       "      <td>0.80811</td>\n",
       "    </tr>\n",
       "  </tbody>\n",
       "</table>\n",
       "</div>"
      ],
      "text/plain": [
       "                 reviewerName  overall                                            summary  helpful_yes  helpful_no  total_vote  reviewTime  score_pos_neg_diff  score_average_rating  wilson_lower_bound\n",
       "2031     Hyoun Kim \"Faluzure\"  5.00000  UPDATED - Great w/ Galaxy S4 & Galaxy Tab 4 10...         1952          68        2020  2013-01-05                1884               0.96634             0.95754\n",
       "3449        NLee the Engineer  5.00000  Top of the class among all (budget-priced) mic...         1428          77        1505  2012-09-26                1351               0.94884             0.93652\n",
       "4212              SkincareCEO  1.00000  1 Star reviews - Micro SDXC card unmounts itse...         1568         126        1694  2013-05-08                1442               0.92562             0.91214\n",
       "317   Amazon Customer \"Kelly\"  1.00000                                Warning, read this!          422          73         495  2012-02-09                 349               0.85253             0.81858\n",
       "4672                  Twister  5.00000  Super high capacity!!!  Excellent price (on Am...           45           4          49  2014-07-03                  41               0.91837             0.80811"
      ]
     },
     "execution_count": 21,
     "metadata": {},
     "output_type": "execute_result"
    }
   ],
   "source": [
    "df.sort_values(\"wilson_lower_bound\", ascending=False).head(5)"
   ]
  },
  {
   "cell_type": "markdown",
   "id": "ebebc8fc",
   "metadata": {
    "papermill": {
     "duration": 0.009557,
     "end_time": "2023-11-07T14:26:52.667094",
     "exception": false,
     "start_time": "2023-11-07T14:26:52.657537",
     "status": "completed"
    },
    "tags": []
   },
   "source": [
    "Let's select the top 20 reviews"
   ]
  },
  {
   "cell_type": "code",
   "execution_count": 22,
   "id": "b96e52f0",
   "metadata": {
    "execution": {
     "iopub.execute_input": "2023-11-07T14:26:52.689059Z",
     "iopub.status.busy": "2023-11-07T14:26:52.688314Z",
     "iopub.status.idle": "2023-11-07T14:26:52.707327Z",
     "shell.execute_reply": "2023-11-07T14:26:52.706170Z"
    },
    "papermill": {
     "duration": 0.033002,
     "end_time": "2023-11-07T14:26:52.709823",
     "exception": false,
     "start_time": "2023-11-07T14:26:52.676821",
     "status": "completed"
    },
    "tags": []
   },
   "outputs": [
    {
     "data": {
      "text/html": [
       "<div>\n",
       "<style scoped>\n",
       "    .dataframe tbody tr th:only-of-type {\n",
       "        vertical-align: middle;\n",
       "    }\n",
       "\n",
       "    .dataframe tbody tr th {\n",
       "        vertical-align: top;\n",
       "    }\n",
       "\n",
       "    .dataframe thead th {\n",
       "        text-align: right;\n",
       "    }\n",
       "</style>\n",
       "<table border=\"1\" class=\"dataframe\">\n",
       "  <thead>\n",
       "    <tr style=\"text-align: right;\">\n",
       "      <th></th>\n",
       "      <th>reviewerName</th>\n",
       "      <th>overall</th>\n",
       "      <th>summary</th>\n",
       "      <th>helpful_yes</th>\n",
       "      <th>helpful_no</th>\n",
       "      <th>total_vote</th>\n",
       "      <th>reviewTime</th>\n",
       "      <th>score_pos_neg_diff</th>\n",
       "      <th>score_average_rating</th>\n",
       "      <th>wilson_lower_bound</th>\n",
       "    </tr>\n",
       "  </thead>\n",
       "  <tbody>\n",
       "    <tr>\n",
       "      <th>2031</th>\n",
       "      <td>Hyoun Kim \"Faluzure\"</td>\n",
       "      <td>5.00000</td>\n",
       "      <td>UPDATED - Great w/ Galaxy S4 &amp; Galaxy Tab 4 10...</td>\n",
       "      <td>1952</td>\n",
       "      <td>68</td>\n",
       "      <td>2020</td>\n",
       "      <td>2013-01-05</td>\n",
       "      <td>1884</td>\n",
       "      <td>0.96634</td>\n",
       "      <td>0.95754</td>\n",
       "    </tr>\n",
       "    <tr>\n",
       "      <th>3449</th>\n",
       "      <td>NLee the Engineer</td>\n",
       "      <td>5.00000</td>\n",
       "      <td>Top of the class among all (budget-priced) mic...</td>\n",
       "      <td>1428</td>\n",
       "      <td>77</td>\n",
       "      <td>1505</td>\n",
       "      <td>2012-09-26</td>\n",
       "      <td>1351</td>\n",
       "      <td>0.94884</td>\n",
       "      <td>0.93652</td>\n",
       "    </tr>\n",
       "    <tr>\n",
       "      <th>4212</th>\n",
       "      <td>SkincareCEO</td>\n",
       "      <td>1.00000</td>\n",
       "      <td>1 Star reviews - Micro SDXC card unmounts itse...</td>\n",
       "      <td>1568</td>\n",
       "      <td>126</td>\n",
       "      <td>1694</td>\n",
       "      <td>2013-05-08</td>\n",
       "      <td>1442</td>\n",
       "      <td>0.92562</td>\n",
       "      <td>0.91214</td>\n",
       "    </tr>\n",
       "    <tr>\n",
       "      <th>317</th>\n",
       "      <td>Amazon Customer \"Kelly\"</td>\n",
       "      <td>1.00000</td>\n",
       "      <td>Warning, read this!</td>\n",
       "      <td>422</td>\n",
       "      <td>73</td>\n",
       "      <td>495</td>\n",
       "      <td>2012-02-09</td>\n",
       "      <td>349</td>\n",
       "      <td>0.85253</td>\n",
       "      <td>0.81858</td>\n",
       "    </tr>\n",
       "    <tr>\n",
       "      <th>4672</th>\n",
       "      <td>Twister</td>\n",
       "      <td>5.00000</td>\n",
       "      <td>Super high capacity!!!  Excellent price (on Am...</td>\n",
       "      <td>45</td>\n",
       "      <td>4</td>\n",
       "      <td>49</td>\n",
       "      <td>2014-07-03</td>\n",
       "      <td>41</td>\n",
       "      <td>0.91837</td>\n",
       "      <td>0.80811</td>\n",
       "    </tr>\n",
       "    <tr>\n",
       "      <th>1835</th>\n",
       "      <td>goconfigure</td>\n",
       "      <td>5.00000</td>\n",
       "      <td>I own it</td>\n",
       "      <td>60</td>\n",
       "      <td>8</td>\n",
       "      <td>68</td>\n",
       "      <td>2014-02-28</td>\n",
       "      <td>52</td>\n",
       "      <td>0.88235</td>\n",
       "      <td>0.78465</td>\n",
       "    </tr>\n",
       "    <tr>\n",
       "      <th>3981</th>\n",
       "      <td>R. Sutton, Jr. \"RWSynergy\"</td>\n",
       "      <td>5.00000</td>\n",
       "      <td>Resolving confusion between \"Mobile Ultra\" and...</td>\n",
       "      <td>112</td>\n",
       "      <td>27</td>\n",
       "      <td>139</td>\n",
       "      <td>2012-10-22</td>\n",
       "      <td>85</td>\n",
       "      <td>0.80576</td>\n",
       "      <td>0.73214</td>\n",
       "    </tr>\n",
       "    <tr>\n",
       "      <th>3807</th>\n",
       "      <td>R. Heisler</td>\n",
       "      <td>3.00000</td>\n",
       "      <td>Good buy for the money but wait, I had an issue!</td>\n",
       "      <td>22</td>\n",
       "      <td>3</td>\n",
       "      <td>25</td>\n",
       "      <td>2013-02-27</td>\n",
       "      <td>19</td>\n",
       "      <td>0.88000</td>\n",
       "      <td>0.70044</td>\n",
       "    </tr>\n",
       "    <tr>\n",
       "      <th>4306</th>\n",
       "      <td>Stellar Eller</td>\n",
       "      <td>5.00000</td>\n",
       "      <td>Awesome Card!</td>\n",
       "      <td>51</td>\n",
       "      <td>14</td>\n",
       "      <td>65</td>\n",
       "      <td>2012-09-06</td>\n",
       "      <td>37</td>\n",
       "      <td>0.78462</td>\n",
       "      <td>0.67033</td>\n",
       "    </tr>\n",
       "    <tr>\n",
       "      <th>4596</th>\n",
       "      <td>Tom Henriksen \"Doggy Diner\"</td>\n",
       "      <td>1.00000</td>\n",
       "      <td>Designed incompatibility/Don't support SanDisk</td>\n",
       "      <td>82</td>\n",
       "      <td>27</td>\n",
       "      <td>109</td>\n",
       "      <td>2012-09-22</td>\n",
       "      <td>55</td>\n",
       "      <td>0.75229</td>\n",
       "      <td>0.66359</td>\n",
       "    </tr>\n",
       "    <tr>\n",
       "      <th>315</th>\n",
       "      <td>Amazon Customer \"johncrea\"</td>\n",
       "      <td>5.00000</td>\n",
       "      <td>Samsung Galaxy Tab2 works with this card if re...</td>\n",
       "      <td>38</td>\n",
       "      <td>10</td>\n",
       "      <td>48</td>\n",
       "      <td>2012-08-13</td>\n",
       "      <td>28</td>\n",
       "      <td>0.79167</td>\n",
       "      <td>0.65741</td>\n",
       "    </tr>\n",
       "    <tr>\n",
       "      <th>1465</th>\n",
       "      <td>D. Stein</td>\n",
       "      <td>4.00000</td>\n",
       "      <td>Finally.</td>\n",
       "      <td>7</td>\n",
       "      <td>0</td>\n",
       "      <td>7</td>\n",
       "      <td>2014-04-14</td>\n",
       "      <td>7</td>\n",
       "      <td>1.00000</td>\n",
       "      <td>0.64567</td>\n",
       "    </tr>\n",
       "    <tr>\n",
       "      <th>1609</th>\n",
       "      <td>Eskimo</td>\n",
       "      <td>5.00000</td>\n",
       "      <td>Bet you wish you had one of these</td>\n",
       "      <td>7</td>\n",
       "      <td>0</td>\n",
       "      <td>7</td>\n",
       "      <td>2014-03-26</td>\n",
       "      <td>7</td>\n",
       "      <td>1.00000</td>\n",
       "      <td>0.64567</td>\n",
       "    </tr>\n",
       "    <tr>\n",
       "      <th>4302</th>\n",
       "      <td>Stayeraug</td>\n",
       "      <td>5.00000</td>\n",
       "      <td>Perfect with GoPro Black 3+</td>\n",
       "      <td>14</td>\n",
       "      <td>2</td>\n",
       "      <td>16</td>\n",
       "      <td>2014-03-21</td>\n",
       "      <td>12</td>\n",
       "      <td>0.87500</td>\n",
       "      <td>0.63977</td>\n",
       "    </tr>\n",
       "    <tr>\n",
       "      <th>4072</th>\n",
       "      <td>sb21 \"sb21\"</td>\n",
       "      <td>5.00000</td>\n",
       "      <td>Used for my Samsung Galaxy Tab 2 7.0</td>\n",
       "      <td>6</td>\n",
       "      <td>0</td>\n",
       "      <td>6</td>\n",
       "      <td>2012-11-09</td>\n",
       "      <td>6</td>\n",
       "      <td>1.00000</td>\n",
       "      <td>0.60967</td>\n",
       "    </tr>\n",
       "    <tr>\n",
       "      <th>1072</th>\n",
       "      <td>Crysis Complex</td>\n",
       "      <td>5.00000</td>\n",
       "      <td>Works wonders for the Galaxy Note 2!</td>\n",
       "      <td>5</td>\n",
       "      <td>0</td>\n",
       "      <td>5</td>\n",
       "      <td>2012-05-10</td>\n",
       "      <td>5</td>\n",
       "      <td>1.00000</td>\n",
       "      <td>0.56552</td>\n",
       "    </tr>\n",
       "    <tr>\n",
       "      <th>2583</th>\n",
       "      <td>J. Wong</td>\n",
       "      <td>5.00000</td>\n",
       "      <td>Works Great with a GoPro 3 Black!</td>\n",
       "      <td>5</td>\n",
       "      <td>0</td>\n",
       "      <td>5</td>\n",
       "      <td>2013-08-06</td>\n",
       "      <td>5</td>\n",
       "      <td>1.00000</td>\n",
       "      <td>0.56552</td>\n",
       "    </tr>\n",
       "    <tr>\n",
       "      <th>121</th>\n",
       "      <td>A. Lee</td>\n",
       "      <td>5.00000</td>\n",
       "      <td>ready for use on the Galaxy S3</td>\n",
       "      <td>5</td>\n",
       "      <td>0</td>\n",
       "      <td>5</td>\n",
       "      <td>2012-05-09</td>\n",
       "      <td>5</td>\n",
       "      <td>1.00000</td>\n",
       "      <td>0.56552</td>\n",
       "    </tr>\n",
       "    <tr>\n",
       "      <th>1142</th>\n",
       "      <td>Daniel Pham(Danpham_X @ yahoo.  com)</td>\n",
       "      <td>5.00000</td>\n",
       "      <td>Great large capacity card</td>\n",
       "      <td>5</td>\n",
       "      <td>0</td>\n",
       "      <td>5</td>\n",
       "      <td>2014-02-04</td>\n",
       "      <td>5</td>\n",
       "      <td>1.00000</td>\n",
       "      <td>0.56552</td>\n",
       "    </tr>\n",
       "    <tr>\n",
       "      <th>1753</th>\n",
       "      <td>G. Becker</td>\n",
       "      <td>5.00000</td>\n",
       "      <td>Use Nothing Other Than the Best</td>\n",
       "      <td>5</td>\n",
       "      <td>0</td>\n",
       "      <td>5</td>\n",
       "      <td>2012-10-22</td>\n",
       "      <td>5</td>\n",
       "      <td>1.00000</td>\n",
       "      <td>0.56552</td>\n",
       "    </tr>\n",
       "  </tbody>\n",
       "</table>\n",
       "</div>"
      ],
      "text/plain": [
       "                              reviewerName  overall                                            summary  helpful_yes  helpful_no  total_vote  reviewTime  score_pos_neg_diff  score_average_rating  wilson_lower_bound\n",
       "2031                  Hyoun Kim \"Faluzure\"  5.00000  UPDATED - Great w/ Galaxy S4 & Galaxy Tab 4 10...         1952          68        2020  2013-01-05                1884               0.96634             0.95754\n",
       "3449                     NLee the Engineer  5.00000  Top of the class among all (budget-priced) mic...         1428          77        1505  2012-09-26                1351               0.94884             0.93652\n",
       "4212                           SkincareCEO  1.00000  1 Star reviews - Micro SDXC card unmounts itse...         1568         126        1694  2013-05-08                1442               0.92562             0.91214\n",
       "317                Amazon Customer \"Kelly\"  1.00000                                Warning, read this!          422          73         495  2012-02-09                 349               0.85253             0.81858\n",
       "4672                               Twister  5.00000  Super high capacity!!!  Excellent price (on Am...           45           4          49  2014-07-03                  41               0.91837             0.80811\n",
       "1835                           goconfigure  5.00000                                           I own it           60           8          68  2014-02-28                  52               0.88235             0.78465\n",
       "3981            R. Sutton, Jr. \"RWSynergy\"  5.00000  Resolving confusion between \"Mobile Ultra\" and...          112          27         139  2012-10-22                  85               0.80576             0.73214\n",
       "3807                            R. Heisler  3.00000   Good buy for the money but wait, I had an issue!           22           3          25  2013-02-27                  19               0.88000             0.70044\n",
       "4306                         Stellar Eller  5.00000                                      Awesome Card!           51          14          65  2012-09-06                  37               0.78462             0.67033\n",
       "4596           Tom Henriksen \"Doggy Diner\"  1.00000     Designed incompatibility/Don't support SanDisk           82          27         109  2012-09-22                  55               0.75229             0.66359\n",
       "315             Amazon Customer \"johncrea\"  5.00000  Samsung Galaxy Tab2 works with this card if re...           38          10          48  2012-08-13                  28               0.79167             0.65741\n",
       "1465                              D. Stein  4.00000                                           Finally.            7           0           7  2014-04-14                   7               1.00000             0.64567\n",
       "1609                                Eskimo  5.00000                  Bet you wish you had one of these            7           0           7  2014-03-26                   7               1.00000             0.64567\n",
       "4302                             Stayeraug  5.00000                        Perfect with GoPro Black 3+           14           2          16  2014-03-21                  12               0.87500             0.63977\n",
       "4072                           sb21 \"sb21\"  5.00000               Used for my Samsung Galaxy Tab 2 7.0            6           0           6  2012-11-09                   6               1.00000             0.60967\n",
       "1072                        Crysis Complex  5.00000               Works wonders for the Galaxy Note 2!            5           0           5  2012-05-10                   5               1.00000             0.56552\n",
       "2583                               J. Wong  5.00000                  Works Great with a GoPro 3 Black!            5           0           5  2013-08-06                   5               1.00000             0.56552\n",
       "121                                 A. Lee  5.00000                     ready for use on the Galaxy S3            5           0           5  2012-05-09                   5               1.00000             0.56552\n",
       "1142  Daniel Pham(Danpham_X @ yahoo.  com)  5.00000                          Great large capacity card            5           0           5  2014-02-04                   5               1.00000             0.56552\n",
       "1753                             G. Becker  5.00000                    Use Nothing Other Than the Best            5           0           5  2012-10-22                   5               1.00000             0.56552"
      ]
     },
     "execution_count": 22,
     "metadata": {},
     "output_type": "execute_result"
    }
   ],
   "source": [
    "df.sort_values(\"wilson_lower_bound\", ascending=False).head(20)"
   ]
  }
 ],
 "metadata": {
  "kernelspec": {
   "display_name": "Python 3",
   "language": "python",
   "name": "python3"
  },
  "language_info": {
   "codemirror_mode": {
    "name": "ipython",
    "version": 3
   },
   "file_extension": ".py",
   "mimetype": "text/x-python",
   "name": "python",
   "nbconvert_exporter": "python",
   "pygments_lexer": "ipython3",
   "version": "3.10.12"
  },
  "papermill": {
   "default_parameters": {},
   "duration": 7.583342,
   "end_time": "2023-11-07T14:26:53.543615",
   "environment_variables": {},
   "exception": null,
   "input_path": "__notebook__.ipynb",
   "output_path": "__notebook__.ipynb",
   "parameters": {},
   "start_time": "2023-11-07T14:26:45.960273",
   "version": "2.4.0"
  }
 },
 "nbformat": 4,
 "nbformat_minor": 5
}
